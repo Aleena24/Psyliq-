{
  "cells": [
    {
      "cell_type": "markdown",
      "metadata": {
        "id": "view-in-github",
        "colab_type": "text"
      },
      "source": [
        "<a href=\"https://colab.research.google.com/github/Aleena24/Psyliq-/blob/main/02_Titanic_Prediction.ipynb\" target=\"_parent\"><img src=\"https://colab.research.google.com/assets/colab-badge.svg\" alt=\"Open In Colab\"/></a>"
      ]
    },
    {
      "cell_type": "code",
      "execution_count": null,
      "id": "4c3501a6",
      "metadata": {
        "_cell_guid": "b1076dfc-b9ad-4769-8c92-a6c4dae69d19",
        "_uuid": "8f2839f25d086af736a60e9eeb907d3b93b6e0e5",
        "execution": {
          "iopub.execute_input": "2024-05-07T07:56:26.780389Z",
          "iopub.status.busy": "2024-05-07T07:56:26.779506Z",
          "iopub.status.idle": "2024-05-07T07:56:30.353747Z",
          "shell.execute_reply": "2024-05-07T07:56:30.352378Z"
        },
        "papermill": {
          "duration": 3.593844,
          "end_time": "2024-05-07T07:56:30.356796",
          "exception": false,
          "start_time": "2024-05-07T07:56:26.762952",
          "status": "completed"
        },
        "tags": [],
        "id": "4c3501a6"
      },
      "outputs": [],
      "source": [
        "import numpy as np\n",
        "import pandas as pd\n",
        "import matplotlib.pyplot as plt\n",
        "import seaborn as sns\n",
        "from sklearn.metrics import accuracy_score"
      ]
    },
    {
      "cell_type": "code",
      "execution_count": null,
      "id": "3aeb7142",
      "metadata": {
        "execution": {
          "iopub.execute_input": "2024-05-07T07:56:30.414970Z",
          "iopub.status.busy": "2024-05-07T07:56:30.414256Z",
          "iopub.status.idle": "2024-05-07T07:56:30.476830Z",
          "shell.execute_reply": "2024-05-07T07:56:30.475267Z"
        },
        "papermill": {
          "duration": 0.080956,
          "end_time": "2024-05-07T07:56:30.479914",
          "exception": false,
          "start_time": "2024-05-07T07:56:30.398958",
          "status": "completed"
        },
        "tags": [],
        "id": "3aeb7142",
        "outputId": "c8481f76-36c2-4ee9-8e40-b5474f8e2f01"
      },
      "outputs": [
        {
          "data": {
            "text/html": [
              "<div>\n",
              "<style scoped>\n",
              "    .dataframe tbody tr th:only-of-type {\n",
              "        vertical-align: middle;\n",
              "    }\n",
              "\n",
              "    .dataframe tbody tr th {\n",
              "        vertical-align: top;\n",
              "    }\n",
              "\n",
              "    .dataframe thead th {\n",
              "        text-align: right;\n",
              "    }\n",
              "</style>\n",
              "<table border=\"1\" class=\"dataframe\">\n",
              "  <thead>\n",
              "    <tr style=\"text-align: right;\">\n",
              "      <th></th>\n",
              "      <th>PassengerId</th>\n",
              "      <th>Survived</th>\n",
              "      <th>Pclass</th>\n",
              "      <th>Name</th>\n",
              "      <th>Sex</th>\n",
              "      <th>Age</th>\n",
              "      <th>SibSp</th>\n",
              "      <th>Parch</th>\n",
              "      <th>Ticket</th>\n",
              "      <th>Fare</th>\n",
              "      <th>Cabin</th>\n",
              "      <th>Embarked</th>\n",
              "    </tr>\n",
              "  </thead>\n",
              "  <tbody>\n",
              "    <tr>\n",
              "      <th>0</th>\n",
              "      <td>1</td>\n",
              "      <td>0</td>\n",
              "      <td>3</td>\n",
              "      <td>Braund, Mr. Owen Harris</td>\n",
              "      <td>male</td>\n",
              "      <td>22.0</td>\n",
              "      <td>1</td>\n",
              "      <td>0</td>\n",
              "      <td>A/5 21171</td>\n",
              "      <td>7.2500</td>\n",
              "      <td>NaN</td>\n",
              "      <td>S</td>\n",
              "    </tr>\n",
              "    <tr>\n",
              "      <th>1</th>\n",
              "      <td>2</td>\n",
              "      <td>1</td>\n",
              "      <td>1</td>\n",
              "      <td>Cumings, Mrs. John Bradley (Florence Briggs Th...</td>\n",
              "      <td>female</td>\n",
              "      <td>38.0</td>\n",
              "      <td>1</td>\n",
              "      <td>0</td>\n",
              "      <td>PC 17599</td>\n",
              "      <td>71.2833</td>\n",
              "      <td>C85</td>\n",
              "      <td>C</td>\n",
              "    </tr>\n",
              "    <tr>\n",
              "      <th>2</th>\n",
              "      <td>3</td>\n",
              "      <td>1</td>\n",
              "      <td>3</td>\n",
              "      <td>Heikkinen, Miss. Laina</td>\n",
              "      <td>female</td>\n",
              "      <td>26.0</td>\n",
              "      <td>0</td>\n",
              "      <td>0</td>\n",
              "      <td>STON/O2. 3101282</td>\n",
              "      <td>7.9250</td>\n",
              "      <td>NaN</td>\n",
              "      <td>S</td>\n",
              "    </tr>\n",
              "    <tr>\n",
              "      <th>3</th>\n",
              "      <td>4</td>\n",
              "      <td>1</td>\n",
              "      <td>1</td>\n",
              "      <td>Futrelle, Mrs. Jacques Heath (Lily May Peel)</td>\n",
              "      <td>female</td>\n",
              "      <td>35.0</td>\n",
              "      <td>1</td>\n",
              "      <td>0</td>\n",
              "      <td>113803</td>\n",
              "      <td>53.1000</td>\n",
              "      <td>C123</td>\n",
              "      <td>S</td>\n",
              "    </tr>\n",
              "    <tr>\n",
              "      <th>4</th>\n",
              "      <td>5</td>\n",
              "      <td>0</td>\n",
              "      <td>3</td>\n",
              "      <td>Allen, Mr. William Henry</td>\n",
              "      <td>male</td>\n",
              "      <td>35.0</td>\n",
              "      <td>0</td>\n",
              "      <td>0</td>\n",
              "      <td>373450</td>\n",
              "      <td>8.0500</td>\n",
              "      <td>NaN</td>\n",
              "      <td>S</td>\n",
              "    </tr>\n",
              "  </tbody>\n",
              "</table>\n",
              "</div>"
            ],
            "text/plain": [
              "   PassengerId  Survived  Pclass  \\\n",
              "0            1         0       3   \n",
              "1            2         1       1   \n",
              "2            3         1       3   \n",
              "3            4         1       1   \n",
              "4            5         0       3   \n",
              "\n",
              "                                                Name     Sex   Age  SibSp  \\\n",
              "0                            Braund, Mr. Owen Harris    male  22.0      1   \n",
              "1  Cumings, Mrs. John Bradley (Florence Briggs Th...  female  38.0      1   \n",
              "2                             Heikkinen, Miss. Laina  female  26.0      0   \n",
              "3       Futrelle, Mrs. Jacques Heath (Lily May Peel)  female  35.0      1   \n",
              "4                           Allen, Mr. William Henry    male  35.0      0   \n",
              "\n",
              "   Parch            Ticket     Fare Cabin Embarked  \n",
              "0      0         A/5 21171   7.2500   NaN        S  \n",
              "1      0          PC 17599  71.2833   C85        C  \n",
              "2      0  STON/O2. 3101282   7.9250   NaN        S  \n",
              "3      0            113803  53.1000  C123        S  \n",
              "4      0            373450   8.0500   NaN        S  "
            ]
          },
          "execution_count": 2,
          "metadata": {},
          "output_type": "execute_result"
        }
      ],
      "source": [
        "train_data = pd.read_csv('../input/c/titanic/train.csv')\n",
        "train_data.head()"
      ]
    },
    {
      "cell_type": "code",
      "execution_count": null,
      "id": "523d29ca",
      "metadata": {
        "execution": {
          "iopub.execute_input": "2024-05-07T07:56:30.540086Z",
          "iopub.status.busy": "2024-05-07T07:56:30.539619Z",
          "iopub.status.idle": "2024-05-07T07:56:30.568372Z",
          "shell.execute_reply": "2024-05-07T07:56:30.566739Z"
        },
        "papermill": {
          "duration": 0.04781,
          "end_time": "2024-05-07T07:56:30.571178",
          "exception": false,
          "start_time": "2024-05-07T07:56:30.523368",
          "status": "completed"
        },
        "tags": [],
        "id": "523d29ca",
        "outputId": "912928ca-0679-43b8-9504-4aaef281c35d"
      },
      "outputs": [
        {
          "data": {
            "text/html": [
              "<div>\n",
              "<style scoped>\n",
              "    .dataframe tbody tr th:only-of-type {\n",
              "        vertical-align: middle;\n",
              "    }\n",
              "\n",
              "    .dataframe tbody tr th {\n",
              "        vertical-align: top;\n",
              "    }\n",
              "\n",
              "    .dataframe thead th {\n",
              "        text-align: right;\n",
              "    }\n",
              "</style>\n",
              "<table border=\"1\" class=\"dataframe\">\n",
              "  <thead>\n",
              "    <tr style=\"text-align: right;\">\n",
              "      <th></th>\n",
              "      <th>PassengerId</th>\n",
              "      <th>Pclass</th>\n",
              "      <th>Name</th>\n",
              "      <th>Sex</th>\n",
              "      <th>Age</th>\n",
              "      <th>SibSp</th>\n",
              "      <th>Parch</th>\n",
              "      <th>Ticket</th>\n",
              "      <th>Fare</th>\n",
              "      <th>Cabin</th>\n",
              "      <th>Embarked</th>\n",
              "    </tr>\n",
              "  </thead>\n",
              "  <tbody>\n",
              "    <tr>\n",
              "      <th>0</th>\n",
              "      <td>892</td>\n",
              "      <td>3</td>\n",
              "      <td>Kelly, Mr. James</td>\n",
              "      <td>male</td>\n",
              "      <td>34.5</td>\n",
              "      <td>0</td>\n",
              "      <td>0</td>\n",
              "      <td>330911</td>\n",
              "      <td>7.8292</td>\n",
              "      <td>NaN</td>\n",
              "      <td>Q</td>\n",
              "    </tr>\n",
              "    <tr>\n",
              "      <th>1</th>\n",
              "      <td>893</td>\n",
              "      <td>3</td>\n",
              "      <td>Wilkes, Mrs. James (Ellen Needs)</td>\n",
              "      <td>female</td>\n",
              "      <td>47.0</td>\n",
              "      <td>1</td>\n",
              "      <td>0</td>\n",
              "      <td>363272</td>\n",
              "      <td>7.0000</td>\n",
              "      <td>NaN</td>\n",
              "      <td>S</td>\n",
              "    </tr>\n",
              "    <tr>\n",
              "      <th>2</th>\n",
              "      <td>894</td>\n",
              "      <td>2</td>\n",
              "      <td>Myles, Mr. Thomas Francis</td>\n",
              "      <td>male</td>\n",
              "      <td>62.0</td>\n",
              "      <td>0</td>\n",
              "      <td>0</td>\n",
              "      <td>240276</td>\n",
              "      <td>9.6875</td>\n",
              "      <td>NaN</td>\n",
              "      <td>Q</td>\n",
              "    </tr>\n",
              "    <tr>\n",
              "      <th>3</th>\n",
              "      <td>895</td>\n",
              "      <td>3</td>\n",
              "      <td>Wirz, Mr. Albert</td>\n",
              "      <td>male</td>\n",
              "      <td>27.0</td>\n",
              "      <td>0</td>\n",
              "      <td>0</td>\n",
              "      <td>315154</td>\n",
              "      <td>8.6625</td>\n",
              "      <td>NaN</td>\n",
              "      <td>S</td>\n",
              "    </tr>\n",
              "    <tr>\n",
              "      <th>4</th>\n",
              "      <td>896</td>\n",
              "      <td>3</td>\n",
              "      <td>Hirvonen, Mrs. Alexander (Helga E Lindqvist)</td>\n",
              "      <td>female</td>\n",
              "      <td>22.0</td>\n",
              "      <td>1</td>\n",
              "      <td>1</td>\n",
              "      <td>3101298</td>\n",
              "      <td>12.2875</td>\n",
              "      <td>NaN</td>\n",
              "      <td>S</td>\n",
              "    </tr>\n",
              "  </tbody>\n",
              "</table>\n",
              "</div>"
            ],
            "text/plain": [
              "   PassengerId  Pclass                                          Name     Sex  \\\n",
              "0          892       3                              Kelly, Mr. James    male   \n",
              "1          893       3              Wilkes, Mrs. James (Ellen Needs)  female   \n",
              "2          894       2                     Myles, Mr. Thomas Francis    male   \n",
              "3          895       3                              Wirz, Mr. Albert    male   \n",
              "4          896       3  Hirvonen, Mrs. Alexander (Helga E Lindqvist)  female   \n",
              "\n",
              "    Age  SibSp  Parch   Ticket     Fare Cabin Embarked  \n",
              "0  34.5      0      0   330911   7.8292   NaN        Q  \n",
              "1  47.0      1      0   363272   7.0000   NaN        S  \n",
              "2  62.0      0      0   240276   9.6875   NaN        Q  \n",
              "3  27.0      0      0   315154   8.6625   NaN        S  \n",
              "4  22.0      1      1  3101298  12.2875   NaN        S  "
            ]
          },
          "execution_count": 3,
          "metadata": {},
          "output_type": "execute_result"
        }
      ],
      "source": [
        "test_data = pd.read_csv('../input/c/titanic/test.csv')\n",
        "test_data.head()"
      ]
    },
    {
      "cell_type": "markdown",
      "id": "dbee308a",
      "metadata": {
        "papermill": {
          "duration": 0.013956,
          "end_time": "2024-05-07T07:56:30.599704",
          "exception": false,
          "start_time": "2024-05-07T07:56:30.585748",
          "status": "completed"
        },
        "tags": [],
        "id": "dbee308a"
      },
      "source": [
        "# Дата шинжих"
      ]
    },
    {
      "cell_type": "code",
      "execution_count": null,
      "id": "128fa959",
      "metadata": {
        "execution": {
          "iopub.execute_input": "2024-05-07T07:56:30.631281Z",
          "iopub.status.busy": "2024-05-07T07:56:30.630105Z",
          "iopub.status.idle": "2024-05-07T07:56:30.637043Z",
          "shell.execute_reply": "2024-05-07T07:56:30.635617Z"
        },
        "papermill": {
          "duration": 0.025677,
          "end_time": "2024-05-07T07:56:30.640020",
          "exception": false,
          "start_time": "2024-05-07T07:56:30.614343",
          "status": "completed"
        },
        "tags": [],
        "id": "128fa959",
        "outputId": "a1f482f8-6e7c-4089-8684-dbfe7350ddd5"
      },
      "outputs": [
        {
          "name": "stdout",
          "output_type": "stream",
          "text": [
            "сургалтын өгөгдөл (891, 12)\n",
            "тестийн өгөгдөл (418, 11)\n"
          ]
        }
      ],
      "source": [
        "print(\"сургалтын өгөгдөл\", train_data.shape)\n",
        "print(\"тестийн өгөгдөл\", test_data.shape)"
      ]
    },
    {
      "cell_type": "code",
      "execution_count": null,
      "id": "848b134d",
      "metadata": {
        "execution": {
          "iopub.execute_input": "2024-05-07T07:56:30.672007Z",
          "iopub.status.busy": "2024-05-07T07:56:30.670774Z",
          "iopub.status.idle": "2024-05-07T07:56:30.704214Z",
          "shell.execute_reply": "2024-05-07T07:56:30.702481Z"
        },
        "papermill": {
          "duration": 0.05215,
          "end_time": "2024-05-07T07:56:30.706854",
          "exception": false,
          "start_time": "2024-05-07T07:56:30.654704",
          "status": "completed"
        },
        "tags": [],
        "id": "848b134d",
        "outputId": "5ecce179-34b1-403a-9fb4-2c2294a85554"
      },
      "outputs": [
        {
          "name": "stdout",
          "output_type": "stream",
          "text": [
            "<class 'pandas.core.frame.DataFrame'>\n",
            "RangeIndex: 891 entries, 0 to 890\n",
            "Data columns (total 12 columns):\n",
            " #   Column       Non-Null Count  Dtype  \n",
            "---  ------       --------------  -----  \n",
            " 0   PassengerId  891 non-null    int64  \n",
            " 1   Survived     891 non-null    int64  \n",
            " 2   Pclass       891 non-null    int64  \n",
            " 3   Name         891 non-null    object \n",
            " 4   Sex          891 non-null    object \n",
            " 5   Age          714 non-null    float64\n",
            " 6   SibSp        891 non-null    int64  \n",
            " 7   Parch        891 non-null    int64  \n",
            " 8   Ticket       891 non-null    object \n",
            " 9   Fare         891 non-null    float64\n",
            " 10  Cabin        204 non-null    object \n",
            " 11  Embarked     889 non-null    object \n",
            "dtypes: float64(2), int64(5), object(5)\n",
            "memory usage: 83.7+ KB\n"
          ]
        }
      ],
      "source": [
        "train_data.info()"
      ]
    },
    {
      "cell_type": "code",
      "execution_count": null,
      "id": "f19f40ac",
      "metadata": {
        "execution": {
          "iopub.execute_input": "2024-05-07T07:56:30.739781Z",
          "iopub.status.busy": "2024-05-07T07:56:30.738219Z",
          "iopub.status.idle": "2024-05-07T07:56:30.775086Z",
          "shell.execute_reply": "2024-05-07T07:56:30.773724Z"
        },
        "papermill": {
          "duration": 0.056639,
          "end_time": "2024-05-07T07:56:30.777767",
          "exception": false,
          "start_time": "2024-05-07T07:56:30.721128",
          "status": "completed"
        },
        "tags": [],
        "id": "f19f40ac",
        "outputId": "3542243c-d035-4af7-c818-9c320372cf94"
      },
      "outputs": [
        {
          "data": {
            "text/html": [
              "<div>\n",
              "<style scoped>\n",
              "    .dataframe tbody tr th:only-of-type {\n",
              "        vertical-align: middle;\n",
              "    }\n",
              "\n",
              "    .dataframe tbody tr th {\n",
              "        vertical-align: top;\n",
              "    }\n",
              "\n",
              "    .dataframe thead th {\n",
              "        text-align: right;\n",
              "    }\n",
              "</style>\n",
              "<table border=\"1\" class=\"dataframe\">\n",
              "  <thead>\n",
              "    <tr style=\"text-align: right;\">\n",
              "      <th></th>\n",
              "      <th>PassengerId</th>\n",
              "      <th>Survived</th>\n",
              "      <th>Pclass</th>\n",
              "      <th>Age</th>\n",
              "      <th>SibSp</th>\n",
              "      <th>Parch</th>\n",
              "      <th>Fare</th>\n",
              "    </tr>\n",
              "  </thead>\n",
              "  <tbody>\n",
              "    <tr>\n",
              "      <th>count</th>\n",
              "      <td>891.000000</td>\n",
              "      <td>891.000000</td>\n",
              "      <td>891.000000</td>\n",
              "      <td>714.000000</td>\n",
              "      <td>891.000000</td>\n",
              "      <td>891.000000</td>\n",
              "      <td>891.000000</td>\n",
              "    </tr>\n",
              "    <tr>\n",
              "      <th>mean</th>\n",
              "      <td>446.000000</td>\n",
              "      <td>0.383838</td>\n",
              "      <td>2.308642</td>\n",
              "      <td>29.699118</td>\n",
              "      <td>0.523008</td>\n",
              "      <td>0.381594</td>\n",
              "      <td>32.204208</td>\n",
              "    </tr>\n",
              "    <tr>\n",
              "      <th>std</th>\n",
              "      <td>257.353842</td>\n",
              "      <td>0.486592</td>\n",
              "      <td>0.836071</td>\n",
              "      <td>14.526497</td>\n",
              "      <td>1.102743</td>\n",
              "      <td>0.806057</td>\n",
              "      <td>49.693429</td>\n",
              "    </tr>\n",
              "    <tr>\n",
              "      <th>min</th>\n",
              "      <td>1.000000</td>\n",
              "      <td>0.000000</td>\n",
              "      <td>1.000000</td>\n",
              "      <td>0.420000</td>\n",
              "      <td>0.000000</td>\n",
              "      <td>0.000000</td>\n",
              "      <td>0.000000</td>\n",
              "    </tr>\n",
              "    <tr>\n",
              "      <th>25%</th>\n",
              "      <td>223.500000</td>\n",
              "      <td>0.000000</td>\n",
              "      <td>2.000000</td>\n",
              "      <td>20.125000</td>\n",
              "      <td>0.000000</td>\n",
              "      <td>0.000000</td>\n",
              "      <td>7.910400</td>\n",
              "    </tr>\n",
              "    <tr>\n",
              "      <th>50%</th>\n",
              "      <td>446.000000</td>\n",
              "      <td>0.000000</td>\n",
              "      <td>3.000000</td>\n",
              "      <td>28.000000</td>\n",
              "      <td>0.000000</td>\n",
              "      <td>0.000000</td>\n",
              "      <td>14.454200</td>\n",
              "    </tr>\n",
              "    <tr>\n",
              "      <th>75%</th>\n",
              "      <td>668.500000</td>\n",
              "      <td>1.000000</td>\n",
              "      <td>3.000000</td>\n",
              "      <td>38.000000</td>\n",
              "      <td>1.000000</td>\n",
              "      <td>0.000000</td>\n",
              "      <td>31.000000</td>\n",
              "    </tr>\n",
              "    <tr>\n",
              "      <th>max</th>\n",
              "      <td>891.000000</td>\n",
              "      <td>1.000000</td>\n",
              "      <td>3.000000</td>\n",
              "      <td>80.000000</td>\n",
              "      <td>8.000000</td>\n",
              "      <td>6.000000</td>\n",
              "      <td>512.329200</td>\n",
              "    </tr>\n",
              "  </tbody>\n",
              "</table>\n",
              "</div>"
            ],
            "text/plain": [
              "       PassengerId    Survived      Pclass         Age       SibSp  \\\n",
              "count   891.000000  891.000000  891.000000  714.000000  891.000000   \n",
              "mean    446.000000    0.383838    2.308642   29.699118    0.523008   \n",
              "std     257.353842    0.486592    0.836071   14.526497    1.102743   \n",
              "min       1.000000    0.000000    1.000000    0.420000    0.000000   \n",
              "25%     223.500000    0.000000    2.000000   20.125000    0.000000   \n",
              "50%     446.000000    0.000000    3.000000   28.000000    0.000000   \n",
              "75%     668.500000    1.000000    3.000000   38.000000    1.000000   \n",
              "max     891.000000    1.000000    3.000000   80.000000    8.000000   \n",
              "\n",
              "            Parch        Fare  \n",
              "count  891.000000  891.000000  \n",
              "mean     0.381594   32.204208  \n",
              "std      0.806057   49.693429  \n",
              "min      0.000000    0.000000  \n",
              "25%      0.000000    7.910400  \n",
              "50%      0.000000   14.454200  \n",
              "75%      0.000000   31.000000  \n",
              "max      6.000000  512.329200  "
            ]
          },
          "execution_count": 6,
          "metadata": {},
          "output_type": "execute_result"
        }
      ],
      "source": [
        "train_data.describe()"
      ]
    },
    {
      "cell_type": "code",
      "execution_count": null,
      "id": "49eca209",
      "metadata": {
        "execution": {
          "iopub.execute_input": "2024-05-07T07:56:30.810733Z",
          "iopub.status.busy": "2024-05-07T07:56:30.809240Z",
          "iopub.status.idle": "2024-05-07T07:56:30.832394Z",
          "shell.execute_reply": "2024-05-07T07:56:30.831489Z"
        },
        "papermill": {
          "duration": 0.042096,
          "end_time": "2024-05-07T07:56:30.834714",
          "exception": false,
          "start_time": "2024-05-07T07:56:30.792618",
          "status": "completed"
        },
        "tags": [],
        "id": "49eca209",
        "outputId": "8794df8f-c31f-4d4f-b3ed-5db0d0b00e76"
      },
      "outputs": [
        {
          "data": {
            "text/html": [
              "<div>\n",
              "<style scoped>\n",
              "    .dataframe tbody tr th:only-of-type {\n",
              "        vertical-align: middle;\n",
              "    }\n",
              "\n",
              "    .dataframe tbody tr th {\n",
              "        vertical-align: top;\n",
              "    }\n",
              "\n",
              "    .dataframe thead th {\n",
              "        text-align: right;\n",
              "    }\n",
              "</style>\n",
              "<table border=\"1\" class=\"dataframe\">\n",
              "  <thead>\n",
              "    <tr style=\"text-align: right;\">\n",
              "      <th></th>\n",
              "      <th>Name</th>\n",
              "      <th>Sex</th>\n",
              "      <th>Ticket</th>\n",
              "      <th>Cabin</th>\n",
              "      <th>Embarked</th>\n",
              "    </tr>\n",
              "  </thead>\n",
              "  <tbody>\n",
              "    <tr>\n",
              "      <th>count</th>\n",
              "      <td>891</td>\n",
              "      <td>891</td>\n",
              "      <td>891</td>\n",
              "      <td>204</td>\n",
              "      <td>889</td>\n",
              "    </tr>\n",
              "    <tr>\n",
              "      <th>unique</th>\n",
              "      <td>891</td>\n",
              "      <td>2</td>\n",
              "      <td>681</td>\n",
              "      <td>147</td>\n",
              "      <td>3</td>\n",
              "    </tr>\n",
              "    <tr>\n",
              "      <th>top</th>\n",
              "      <td>Braund, Mr. Owen Harris</td>\n",
              "      <td>male</td>\n",
              "      <td>347082</td>\n",
              "      <td>B96 B98</td>\n",
              "      <td>S</td>\n",
              "    </tr>\n",
              "    <tr>\n",
              "      <th>freq</th>\n",
              "      <td>1</td>\n",
              "      <td>577</td>\n",
              "      <td>7</td>\n",
              "      <td>4</td>\n",
              "      <td>644</td>\n",
              "    </tr>\n",
              "  </tbody>\n",
              "</table>\n",
              "</div>"
            ],
            "text/plain": [
              "                           Name   Sex  Ticket    Cabin Embarked\n",
              "count                       891   891     891      204      889\n",
              "unique                      891     2     681      147        3\n",
              "top     Braund, Mr. Owen Harris  male  347082  B96 B98        S\n",
              "freq                          1   577       7        4      644"
            ]
          },
          "execution_count": 7,
          "metadata": {},
          "output_type": "execute_result"
        }
      ],
      "source": [
        "train_data.describe(include='object')"
      ]
    },
    {
      "cell_type": "markdown",
      "id": "abf6efbf",
      "metadata": {
        "papermill": {
          "duration": 0.014971,
          "end_time": "2024-05-07T07:56:30.864517",
          "exception": false,
          "start_time": "2024-05-07T07:56:30.849546",
          "status": "completed"
        },
        "tags": [],
        "id": "abf6efbf"
      },
      "source": [
        "# Дата визуалчлах"
      ]
    },
    {
      "cell_type": "code",
      "execution_count": null,
      "id": "4f7a0ddb",
      "metadata": {
        "execution": {
          "iopub.execute_input": "2024-05-07T07:56:30.898719Z",
          "iopub.status.busy": "2024-05-07T07:56:30.897699Z",
          "iopub.status.idle": "2024-05-07T07:56:31.725723Z",
          "shell.execute_reply": "2024-05-07T07:56:31.724626Z"
        },
        "papermill": {
          "duration": 0.848264,
          "end_time": "2024-05-07T07:56:31.728804",
          "exception": false,
          "start_time": "2024-05-07T07:56:30.880540",
          "status": "completed"
        },
        "tags": [],
        "id": "4f7a0ddb",
        "outputId": "872e8f38-e681-4a77-f46f-6f3ac404d952"
      },
      "outputs": [
        {
          "data": {
            "text/plain": [
              "<Axes: xlabel='Fare', ylabel='Age'>"
            ]
          },
          "execution_count": 8,
          "metadata": {},
          "output_type": "execute_result"
        },
        {
          "data": {
            "image/png": "[encoded data removed]",
            "text/plain": [
              "<Figure size 1000x400 with 2 Axes>"
            ]
          },
          "metadata": {},
          "output_type": "display_data"
        }
      ],
      "source": [
        "fig, axes = plt.subplots(nrows=1, ncols=2,figsize=(10, 4))\n",
        "sns.scatterplot(x='Fare', y ='Age', data=train_data, ax=axes[0])\n",
        "sns.scatterplot(x='Fare', y ='Age', hue='Survived',data=train_data, ax=axes[1])"
      ]
    },
    {
      "cell_type": "code",
      "execution_count": null,
      "id": "e71128bc",
      "metadata": {
        "execution": {
          "iopub.execute_input": "2024-05-07T07:56:31.767129Z",
          "iopub.status.busy": "2024-05-07T07:56:31.766613Z",
          "iopub.status.idle": "2024-05-07T07:56:31.786956Z",
          "shell.execute_reply": "2024-05-07T07:56:31.785616Z"
        },
        "papermill": {
          "duration": 0.043638,
          "end_time": "2024-05-07T07:56:31.789536",
          "exception": false,
          "start_time": "2024-05-07T07:56:31.745898",
          "status": "completed"
        },
        "tags": [],
        "id": "e71128bc",
        "outputId": "15eaca11-b47a-4a07-82fd-a874e5a317ec"
      },
      "outputs": [
        {
          "data": {
            "text/html": [
              "<div>\n",
              "<style scoped>\n",
              "    .dataframe tbody tr th:only-of-type {\n",
              "        vertical-align: middle;\n",
              "    }\n",
              "\n",
              "    .dataframe tbody tr th {\n",
              "        vertical-align: top;\n",
              "    }\n",
              "\n",
              "    .dataframe thead th {\n",
              "        text-align: right;\n",
              "    }\n",
              "</style>\n",
              "<table border=\"1\" class=\"dataframe\">\n",
              "  <thead>\n",
              "    <tr style=\"text-align: right;\">\n",
              "      <th></th>\n",
              "      <th>PassengerId</th>\n",
              "      <th>Survived</th>\n",
              "      <th>Pclass</th>\n",
              "      <th>Name</th>\n",
              "      <th>Sex</th>\n",
              "      <th>Age</th>\n",
              "      <th>SibSp</th>\n",
              "      <th>Parch</th>\n",
              "      <th>Ticket</th>\n",
              "      <th>Fare</th>\n",
              "      <th>Cabin</th>\n",
              "      <th>Embarked</th>\n",
              "    </tr>\n",
              "  </thead>\n",
              "  <tbody>\n",
              "    <tr>\n",
              "      <th>258</th>\n",
              "      <td>259</td>\n",
              "      <td>1</td>\n",
              "      <td>1</td>\n",
              "      <td>Ward, Miss. Anna</td>\n",
              "      <td>female</td>\n",
              "      <td>35.0</td>\n",
              "      <td>0</td>\n",
              "      <td>0</td>\n",
              "      <td>PC 17755</td>\n",
              "      <td>512.3292</td>\n",
              "      <td>NaN</td>\n",
              "      <td>C</td>\n",
              "    </tr>\n",
              "    <tr>\n",
              "      <th>679</th>\n",
              "      <td>680</td>\n",
              "      <td>1</td>\n",
              "      <td>1</td>\n",
              "      <td>Cardeza, Mr. Thomas Drake Martinez</td>\n",
              "      <td>male</td>\n",
              "      <td>36.0</td>\n",
              "      <td>0</td>\n",
              "      <td>1</td>\n",
              "      <td>PC 17755</td>\n",
              "      <td>512.3292</td>\n",
              "      <td>B51 B53 B55</td>\n",
              "      <td>C</td>\n",
              "    </tr>\n",
              "    <tr>\n",
              "      <th>737</th>\n",
              "      <td>738</td>\n",
              "      <td>1</td>\n",
              "      <td>1</td>\n",
              "      <td>Lesurer, Mr. Gustave J</td>\n",
              "      <td>male</td>\n",
              "      <td>35.0</td>\n",
              "      <td>0</td>\n",
              "      <td>0</td>\n",
              "      <td>PC 17755</td>\n",
              "      <td>512.3292</td>\n",
              "      <td>B101</td>\n",
              "      <td>C</td>\n",
              "    </tr>\n",
              "  </tbody>\n",
              "</table>\n",
              "</div>"
            ],
            "text/plain": [
              "     PassengerId  Survived  Pclass                                Name  \\\n",
              "258          259         1       1                    Ward, Miss. Anna   \n",
              "679          680         1       1  Cardeza, Mr. Thomas Drake Martinez   \n",
              "737          738         1       1              Lesurer, Mr. Gustave J   \n",
              "\n",
              "        Sex   Age  SibSp  Parch    Ticket      Fare        Cabin Embarked  \n",
              "258  female  35.0      0      0  PC 17755  512.3292          NaN        C  \n",
              "679    male  36.0      0      1  PC 17755  512.3292  B51 B53 B55        C  \n",
              "737    male  35.0      0      0  PC 17755  512.3292         B101        C  "
            ]
          },
          "execution_count": 9,
          "metadata": {},
          "output_type": "execute_result"
        }
      ],
      "source": [
        "train_data[train_data['Fare']>500]"
      ]
    },
    {
      "cell_type": "code",
      "execution_count": null,
      "id": "b3d46f2e",
      "metadata": {
        "execution": {
          "iopub.execute_input": "2024-05-07T07:56:31.827688Z",
          "iopub.status.busy": "2024-05-07T07:56:31.826363Z",
          "iopub.status.idle": "2024-05-07T07:56:33.364747Z",
          "shell.execute_reply": "2024-05-07T07:56:33.363263Z"
        },
        "papermill": {
          "duration": 1.560877,
          "end_time": "2024-05-07T07:56:33.367824",
          "exception": false,
          "start_time": "2024-05-07T07:56:31.806947",
          "status": "completed"
        },
        "tags": [],
        "id": "b3d46f2e",
        "outputId": "9872dc03-d111-47a0-d046-1fab9a69b38f"
      },
      "outputs": [
        {
          "data": {
            "text/plain": [
              "<Axes: xlabel='Fare', ylabel='Parch'>"
            ]
          },
          "execution_count": 10,
          "metadata": {},
          "output_type": "execute_result"
        },
        {
          "data": {
            "image/png": "[encoded data removed]",
            "text/plain": [
              "<Figure size 1600x600 with 4 Axes>"
            ]
          },
          "metadata": {},
          "output_type": "display_data"
        }
      ],
      "source": [
        "fig, axes = plt.subplots(nrows=2, ncols=2,figsize=(16, 6))\n",
        "sns.scatterplot(x='Fare', y ='Pclass',hue='Survived', data=train_data, ax=axes[0,0])\n",
        "sns.scatterplot(x='Fare', y ='Age', hue='Survived',data=train_data, ax=axes[0,1])\n",
        "sns.scatterplot(x='Fare', y ='SibSp', hue='Survived',data=train_data, ax=axes[1,0])\n",
        "sns.scatterplot(x='Fare', y ='Parch', hue='Survived',data=train_data, ax=axes[1,1])"
      ]
    },
    {
      "cell_type": "code",
      "execution_count": null,
      "id": "b898e9ec",
      "metadata": {
        "execution": {
          "iopub.execute_input": "2024-05-07T07:56:33.408167Z",
          "iopub.status.busy": "2024-05-07T07:56:33.407654Z",
          "iopub.status.idle": "2024-05-07T07:56:34.070761Z",
          "shell.execute_reply": "2024-05-07T07:56:34.069279Z"
        },
        "papermill": {
          "duration": 0.687084,
          "end_time": "2024-05-07T07:56:34.073715",
          "exception": false,
          "start_time": "2024-05-07T07:56:33.386631",
          "status": "completed"
        },
        "tags": [],
        "id": "b898e9ec",
        "outputId": "211d0507-cb56-46b3-cc16-69cd5e939170"
      },
      "outputs": [
        {
          "data": {
            "text/plain": [
              "<Axes: xlabel='Survived', ylabel='Age'>"
            ]
          },
          "execution_count": 11,
          "metadata": {},
          "output_type": "execute_result"
        },
        {
          "data": {
            "image/png": "[encoded data removed]",
            "text/plain": [
              "<Figure size 1500x400 with 3 Axes>"
            ]
          },
          "metadata": {},
          "output_type": "display_data"
        }
      ],
      "source": [
        "fig, axes = plt.subplots(nrows=1, ncols=3,figsize=(15, 4))\n",
        "sns.boxplot(x='Pclass', y ='Fare', data=train_data, ax=axes[0])\n",
        "sns.boxplot(x='Pclass', y ='Age', data=train_data, ax=axes[1])\n",
        "sns.boxplot(x='Survived', y ='Age', data=train_data, ax=axes[2])"
      ]
    },
    {
      "cell_type": "code",
      "execution_count": null,
      "id": "2150c124",
      "metadata": {
        "execution": {
          "iopub.execute_input": "2024-05-07T07:56:34.118204Z",
          "iopub.status.busy": "2024-05-07T07:56:34.117754Z",
          "iopub.status.idle": "2024-05-07T07:56:34.676847Z",
          "shell.execute_reply": "2024-05-07T07:56:34.675276Z"
        },
        "papermill": {
          "duration": 0.585426,
          "end_time": "2024-05-07T07:56:34.680055",
          "exception": false,
          "start_time": "2024-05-07T07:56:34.094629",
          "status": "completed"
        },
        "tags": [],
        "id": "2150c124",
        "outputId": "5d485124-f674-48b8-cb41-3cbd6c28a540"
      },
      "outputs": [
        {
          "data": {
            "text/plain": [
              "<Axes: xlabel='Survived', ylabel='Age'>"
            ]
          },
          "execution_count": 12,
          "metadata": {},
          "output_type": "execute_result"
        },
        {
          "data": {
            "image/png": "[encoded data removed]",
            "text/plain": [
              "<Figure size 640x480 with 1 Axes>"
            ]
          },
          "metadata": {},
          "output_type": "display_data"
        }
      ],
      "source": [
        "sns.boxplot(x=\"Survived\", hue='Pclass', y=\"Age\", data=train_data)"
      ]
    },
    {
      "cell_type": "code",
      "execution_count": null,
      "id": "b58a91bb",
      "metadata": {
        "execution": {
          "iopub.execute_input": "2024-05-07T07:56:34.723988Z",
          "iopub.status.busy": "2024-05-07T07:56:34.723522Z",
          "iopub.status.idle": "2024-05-07T07:56:34.750896Z",
          "shell.execute_reply": "2024-05-07T07:56:34.749639Z"
        },
        "papermill": {
          "duration": 0.053279,
          "end_time": "2024-05-07T07:56:34.753768",
          "exception": false,
          "start_time": "2024-05-07T07:56:34.700489",
          "status": "completed"
        },
        "tags": [],
        "id": "b58a91bb",
        "outputId": "efba839d-3d45-4b98-ac11-40a05fe74b38"
      },
      "outputs": [
        {
          "data": {
            "text/html": [
              "<div>\n",
              "<style scoped>\n",
              "    .dataframe tbody tr th:only-of-type {\n",
              "        vertical-align: middle;\n",
              "    }\n",
              "\n",
              "    .dataframe tbody tr th {\n",
              "        vertical-align: top;\n",
              "    }\n",
              "\n",
              "    .dataframe thead th {\n",
              "        text-align: right;\n",
              "    }\n",
              "</style>\n",
              "<table border=\"1\" class=\"dataframe\">\n",
              "  <thead>\n",
              "    <tr style=\"text-align: right;\">\n",
              "      <th>Survived</th>\n",
              "      <th>0</th>\n",
              "      <th>1</th>\n",
              "    </tr>\n",
              "    <tr>\n",
              "      <th>Sex</th>\n",
              "      <th></th>\n",
              "      <th></th>\n",
              "    </tr>\n",
              "  </thead>\n",
              "  <tbody>\n",
              "    <tr>\n",
              "      <th>female</th>\n",
              "      <td>81</td>\n",
              "      <td>233</td>\n",
              "    </tr>\n",
              "    <tr>\n",
              "      <th>male</th>\n",
              "      <td>468</td>\n",
              "      <td>109</td>\n",
              "    </tr>\n",
              "  </tbody>\n",
              "</table>\n",
              "</div>"
            ],
            "text/plain": [
              "Survived    0    1\n",
              "Sex               \n",
              "female     81  233\n",
              "male      468  109"
            ]
          },
          "execution_count": 13,
          "metadata": {},
          "output_type": "execute_result"
        }
      ],
      "source": [
        "pd.crosstab(train_data['Sex'], train_data['Survived'])"
      ]
    },
    {
      "cell_type": "code",
      "execution_count": null,
      "id": "a68e250f",
      "metadata": {
        "execution": {
          "iopub.execute_input": "2024-05-07T07:56:34.797438Z",
          "iopub.status.busy": "2024-05-07T07:56:34.796945Z",
          "iopub.status.idle": "2024-05-07T07:56:34.815440Z",
          "shell.execute_reply": "2024-05-07T07:56:34.813830Z"
        },
        "papermill": {
          "duration": 0.043842,
          "end_time": "2024-05-07T07:56:34.818034",
          "exception": false,
          "start_time": "2024-05-07T07:56:34.774192",
          "status": "completed"
        },
        "tags": [],
        "id": "a68e250f",
        "outputId": "20ee1eab-789b-468b-da08-26451f3bf1b7"
      },
      "outputs": [
        {
          "data": {
            "text/html": [
              "<div>\n",
              "<style scoped>\n",
              "    .dataframe tbody tr th:only-of-type {\n",
              "        vertical-align: middle;\n",
              "    }\n",
              "\n",
              "    .dataframe tbody tr th {\n",
              "        vertical-align: top;\n",
              "    }\n",
              "\n",
              "    .dataframe thead th {\n",
              "        text-align: right;\n",
              "    }\n",
              "</style>\n",
              "<table border=\"1\" class=\"dataframe\">\n",
              "  <thead>\n",
              "    <tr style=\"text-align: right;\">\n",
              "      <th></th>\n",
              "      <th>Sex</th>\n",
              "      <th>Survived</th>\n",
              "    </tr>\n",
              "  </thead>\n",
              "  <tbody>\n",
              "    <tr>\n",
              "      <th>0</th>\n",
              "      <td>female</td>\n",
              "      <td>0.742038</td>\n",
              "    </tr>\n",
              "    <tr>\n",
              "      <th>1</th>\n",
              "      <td>male</td>\n",
              "      <td>0.188908</td>\n",
              "    </tr>\n",
              "  </tbody>\n",
              "</table>\n",
              "</div>"
            ],
            "text/plain": [
              "      Sex  Survived\n",
              "0  female  0.742038\n",
              "1    male  0.188908"
            ]
          },
          "execution_count": 14,
          "metadata": {},
          "output_type": "execute_result"
        }
      ],
      "source": [
        "train_data[[\"Sex\", \"Survived\"]].groupby(['Sex'], as_index=False).mean()"
      ]
    },
    {
      "cell_type": "code",
      "execution_count": null,
      "id": "679cabb8",
      "metadata": {
        "execution": {
          "iopub.execute_input": "2024-05-07T07:56:34.860849Z",
          "iopub.status.busy": "2024-05-07T07:56:34.860339Z",
          "iopub.status.idle": "2024-05-07T07:56:35.147785Z",
          "shell.execute_reply": "2024-05-07T07:56:35.146466Z"
        },
        "papermill": {
          "duration": 0.312422,
          "end_time": "2024-05-07T07:56:35.150636",
          "exception": false,
          "start_time": "2024-05-07T07:56:34.838214",
          "status": "completed"
        },
        "tags": [],
        "id": "679cabb8",
        "outputId": "fdc78281-cd00-487b-8e2b-1144a86209d2"
      },
      "outputs": [
        {
          "data": {
            "text/plain": [
              "<Axes: xlabel='Sex', ylabel='count'>"
            ]
          },
          "execution_count": 15,
          "metadata": {},
          "output_type": "execute_result"
        },
        {
          "data": {
            "image/png": "[encoded data removed]",
            "text/plain": [
              "<Figure size 640x480 with 1 Axes>"
            ]
          },
          "metadata": {},
          "output_type": "display_data"
        }
      ],
      "source": [
        "sns.countplot(x='Sex', hue='Survived', data=train_data)"
      ]
    },
    {
      "cell_type": "code",
      "execution_count": null,
      "id": "cfc02a18",
      "metadata": {
        "execution": {
          "iopub.execute_input": "2024-05-07T07:56:35.196455Z",
          "iopub.status.busy": "2024-05-07T07:56:35.195939Z",
          "iopub.status.idle": "2024-05-07T07:56:35.514938Z",
          "shell.execute_reply": "2024-05-07T07:56:35.513943Z"
        },
        "papermill": {
          "duration": 0.344532,
          "end_time": "2024-05-07T07:56:35.517296",
          "exception": false,
          "start_time": "2024-05-07T07:56:35.172764",
          "status": "completed"
        },
        "tags": [],
        "id": "cfc02a18",
        "outputId": "7e6e2aec-f973-423e-8976-3c51aac85511"
      },
      "outputs": [
        {
          "data": {
            "text/plain": [
              "<Axes: xlabel='Pclass', ylabel='count'>"
            ]
          },
          "execution_count": 16,
          "metadata": {},
          "output_type": "execute_result"
        },
        {
          "data": {
            "image/png": "[encoded data removed]",
            "text/plain": [
              "<Figure size 640x480 with 1 Axes>"
            ]
          },
          "metadata": {},
          "output_type": "display_data"
        }
      ],
      "source": [
        "sns.countplot(x='Pclass', hue='Survived', data=train_data)"
      ]
    },
    {
      "cell_type": "code",
      "execution_count": null,
      "id": "ddf19a73",
      "metadata": {
        "execution": {
          "iopub.execute_input": "2024-05-07T07:56:35.562909Z",
          "iopub.status.busy": "2024-05-07T07:56:35.562150Z",
          "iopub.status.idle": "2024-05-07T07:56:35.569625Z",
          "shell.execute_reply": "2024-05-07T07:56:35.568657Z"
        },
        "papermill": {
          "duration": 0.033582,
          "end_time": "2024-05-07T07:56:35.572105",
          "exception": false,
          "start_time": "2024-05-07T07:56:35.538523",
          "status": "completed"
        },
        "tags": [],
        "id": "ddf19a73"
      },
      "outputs": [],
      "source": [
        "train_data['age_cat']=train_data[\"Age\"].apply(lambda age: 1 if age < 30 else 3 if age >55 else 2)"
      ]
    },
    {
      "cell_type": "code",
      "execution_count": null,
      "id": "ab48d749",
      "metadata": {
        "execution": {
          "iopub.execute_input": "2024-05-07T07:56:35.618517Z",
          "iopub.status.busy": "2024-05-07T07:56:35.617779Z",
          "iopub.status.idle": "2024-05-07T07:56:35.634679Z",
          "shell.execute_reply": "2024-05-07T07:56:35.633272Z"
        },
        "papermill": {
          "duration": 0.043577,
          "end_time": "2024-05-07T07:56:35.637393",
          "exception": false,
          "start_time": "2024-05-07T07:56:35.593816",
          "status": "completed"
        },
        "tags": [],
        "id": "ab48d749",
        "outputId": "4ee90a10-9566-49d4-c4c6-d58c5c761be2"
      },
      "outputs": [
        {
          "data": {
            "text/html": [
              "<div>\n",
              "<style scoped>\n",
              "    .dataframe tbody tr th:only-of-type {\n",
              "        vertical-align: middle;\n",
              "    }\n",
              "\n",
              "    .dataframe tbody tr th {\n",
              "        vertical-align: top;\n",
              "    }\n",
              "\n",
              "    .dataframe thead th {\n",
              "        text-align: right;\n",
              "    }\n",
              "</style>\n",
              "<table border=\"1\" class=\"dataframe\">\n",
              "  <thead>\n",
              "    <tr style=\"text-align: right;\">\n",
              "      <th></th>\n",
              "      <th>PassengerId</th>\n",
              "      <th>Survived</th>\n",
              "      <th>Pclass</th>\n",
              "      <th>Name</th>\n",
              "      <th>Sex</th>\n",
              "      <th>Age</th>\n",
              "      <th>SibSp</th>\n",
              "      <th>Parch</th>\n",
              "      <th>Ticket</th>\n",
              "      <th>Fare</th>\n",
              "      <th>Cabin</th>\n",
              "      <th>Embarked</th>\n",
              "      <th>age_cat</th>\n",
              "    </tr>\n",
              "  </thead>\n",
              "  <tbody>\n",
              "    <tr>\n",
              "      <th>0</th>\n",
              "      <td>1</td>\n",
              "      <td>0</td>\n",
              "      <td>3</td>\n",
              "      <td>Braund, Mr. Owen Harris</td>\n",
              "      <td>male</td>\n",
              "      <td>22.0</td>\n",
              "      <td>1</td>\n",
              "      <td>0</td>\n",
              "      <td>A/5 21171</td>\n",
              "      <td>7.2500</td>\n",
              "      <td>NaN</td>\n",
              "      <td>S</td>\n",
              "      <td>1</td>\n",
              "    </tr>\n",
              "    <tr>\n",
              "      <th>1</th>\n",
              "      <td>2</td>\n",
              "      <td>1</td>\n",
              "      <td>1</td>\n",
              "      <td>Cumings, Mrs. John Bradley (Florence Briggs Th...</td>\n",
              "      <td>female</td>\n",
              "      <td>38.0</td>\n",
              "      <td>1</td>\n",
              "      <td>0</td>\n",
              "      <td>PC 17599</td>\n",
              "      <td>71.2833</td>\n",
              "      <td>C85</td>\n",
              "      <td>C</td>\n",
              "      <td>2</td>\n",
              "    </tr>\n",
              "  </tbody>\n",
              "</table>\n",
              "</div>"
            ],
            "text/plain": [
              "   PassengerId  Survived  Pclass  \\\n",
              "0            1         0       3   \n",
              "1            2         1       1   \n",
              "\n",
              "                                                Name     Sex   Age  SibSp  \\\n",
              "0                            Braund, Mr. Owen Harris    male  22.0      1   \n",
              "1  Cumings, Mrs. John Bradley (Florence Briggs Th...  female  38.0      1   \n",
              "\n",
              "   Parch     Ticket     Fare Cabin Embarked  age_cat  \n",
              "0      0  A/5 21171   7.2500   NaN        S        1  \n",
              "1      0   PC 17599  71.2833   C85        C        2  "
            ]
          },
          "execution_count": 18,
          "metadata": {},
          "output_type": "execute_result"
        }
      ],
      "source": [
        "train_data.head(2)"
      ]
    },
    {
      "cell_type": "code",
      "execution_count": null,
      "id": "07db6fcd",
      "metadata": {
        "execution": {
          "iopub.execute_input": "2024-05-07T07:56:35.685515Z",
          "iopub.status.busy": "2024-05-07T07:56:35.684790Z",
          "iopub.status.idle": "2024-05-07T07:56:35.994021Z",
          "shell.execute_reply": "2024-05-07T07:56:35.992323Z"
        },
        "papermill": {
          "duration": 0.336938,
          "end_time": "2024-05-07T07:56:35.997245",
          "exception": false,
          "start_time": "2024-05-07T07:56:35.660307",
          "status": "completed"
        },
        "tags": [],
        "id": "07db6fcd",
        "outputId": "99041b1e-5a0c-4f2a-8567-fca9536c65e9"
      },
      "outputs": [
        {
          "data": {
            "text/plain": [
              "<Axes: xlabel='age_cat', ylabel='count'>"
            ]
          },
          "execution_count": 19,
          "metadata": {},
          "output_type": "execute_result"
        },
        {
          "data": {
            "image/png": "[encoded data removed]",
            "text/plain": [
              "<Figure size 640x480 with 1 Axes>"
            ]
          },
          "metadata": {},
          "output_type": "display_data"
        }
      ],
      "source": [
        "sns.countplot(x='age_cat', hue=\"Survived\", data=train_data)"
      ]
    },
    {
      "cell_type": "markdown",
      "id": "95d1f7bb",
      "metadata": {
        "papermill": {
          "duration": 0.023016,
          "end_time": "2024-05-07T07:56:36.140691",
          "exception": false,
          "start_time": "2024-05-07T07:56:36.117675",
          "status": "completed"
        },
        "tags": [],
        "id": "95d1f7bb"
      },
      "source": [
        "# Оролт гаралтын өгөгдөл бэлтгэх"
      ]
    },
    {
      "cell_type": "code",
      "execution_count": null,
      "id": "f6d669b6",
      "metadata": {
        "execution": {
          "iopub.execute_input": "2024-05-07T07:56:36.190317Z",
          "iopub.status.busy": "2024-05-07T07:56:36.189520Z",
          "iopub.status.idle": "2024-05-07T07:56:36.198588Z",
          "shell.execute_reply": "2024-05-07T07:56:36.197476Z"
        },
        "papermill": {
          "duration": 0.03697,
          "end_time": "2024-05-07T07:56:36.201528",
          "exception": false,
          "start_time": "2024-05-07T07:56:36.164558",
          "status": "completed"
        },
        "tags": [],
        "id": "f6d669b6"
      },
      "outputs": [],
      "source": [
        "y = train_data['Survived']\n",
        "X = pd.get_dummies(train_data[['Pclass', 'Sex', 'SibSp', 'Parch']])\n",
        "#X = train_data.drop([\"PassengerId\",\"Survived\",\"Name\",\"Ticket\",\"Cabin\"],axis=1)"
      ]
    },
    {
      "cell_type": "code",
      "execution_count": null,
      "id": "4ad868d8",
      "metadata": {
        "execution": {
          "iopub.execute_input": "2024-05-07T07:56:36.251912Z",
          "iopub.status.busy": "2024-05-07T07:56:36.251240Z",
          "iopub.status.idle": "2024-05-07T07:56:36.260579Z",
          "shell.execute_reply": "2024-05-07T07:56:36.259565Z"
        },
        "papermill": {
          "duration": 0.03732,
          "end_time": "2024-05-07T07:56:36.263087",
          "exception": false,
          "start_time": "2024-05-07T07:56:36.225767",
          "status": "completed"
        },
        "tags": [],
        "id": "4ad868d8",
        "outputId": "8f92c918-97da-47d2-a404-d20f04e49f05"
      },
      "outputs": [
        {
          "data": {
            "text/plain": [
              "0    0\n",
              "1    1\n",
              "2    1\n",
              "Name: Survived, dtype: int64"
            ]
          },
          "execution_count": 21,
          "metadata": {},
          "output_type": "execute_result"
        }
      ],
      "source": [
        "y[:3]"
      ]
    },
    {
      "cell_type": "code",
      "execution_count": null,
      "id": "3a34f959",
      "metadata": {
        "execution": {
          "iopub.execute_input": "2024-05-07T07:56:36.312846Z",
          "iopub.status.busy": "2024-05-07T07:56:36.311197Z",
          "iopub.status.idle": "2024-05-07T07:56:36.326285Z",
          "shell.execute_reply": "2024-05-07T07:56:36.325151Z"
        },
        "papermill": {
          "duration": 0.042848,
          "end_time": "2024-05-07T07:56:36.328777",
          "exception": false,
          "start_time": "2024-05-07T07:56:36.285929",
          "status": "completed"
        },
        "tags": [],
        "id": "3a34f959",
        "outputId": "c1400337-f515-4d03-9a41-d92afb6bb894"
      },
      "outputs": [
        {
          "data": {
            "text/html": [
              "<div>\n",
              "<style scoped>\n",
              "    .dataframe tbody tr th:only-of-type {\n",
              "        vertical-align: middle;\n",
              "    }\n",
              "\n",
              "    .dataframe tbody tr th {\n",
              "        vertical-align: top;\n",
              "    }\n",
              "\n",
              "    .dataframe thead th {\n",
              "        text-align: right;\n",
              "    }\n",
              "</style>\n",
              "<table border=\"1\" class=\"dataframe\">\n",
              "  <thead>\n",
              "    <tr style=\"text-align: right;\">\n",
              "      <th></th>\n",
              "      <th>Pclass</th>\n",
              "      <th>SibSp</th>\n",
              "      <th>Parch</th>\n",
              "      <th>Sex_female</th>\n",
              "      <th>Sex_male</th>\n",
              "    </tr>\n",
              "  </thead>\n",
              "  <tbody>\n",
              "    <tr>\n",
              "      <th>0</th>\n",
              "      <td>3</td>\n",
              "      <td>1</td>\n",
              "      <td>0</td>\n",
              "      <td>False</td>\n",
              "      <td>True</td>\n",
              "    </tr>\n",
              "    <tr>\n",
              "      <th>1</th>\n",
              "      <td>1</td>\n",
              "      <td>1</td>\n",
              "      <td>0</td>\n",
              "      <td>True</td>\n",
              "      <td>False</td>\n",
              "    </tr>\n",
              "    <tr>\n",
              "      <th>2</th>\n",
              "      <td>3</td>\n",
              "      <td>0</td>\n",
              "      <td>0</td>\n",
              "      <td>True</td>\n",
              "      <td>False</td>\n",
              "    </tr>\n",
              "  </tbody>\n",
              "</table>\n",
              "</div>"
            ],
            "text/plain": [
              "   Pclass  SibSp  Parch  Sex_female  Sex_male\n",
              "0       3      1      0       False      True\n",
              "1       1      1      0        True     False\n",
              "2       3      0      0        True     False"
            ]
          },
          "execution_count": 22,
          "metadata": {},
          "output_type": "execute_result"
        }
      ],
      "source": [
        "X[:3]"
      ]
    },
    {
      "cell_type": "code",
      "execution_count": null,
      "id": "84ee3d8d",
      "metadata": {
        "execution": {
          "iopub.execute_input": "2024-05-07T07:56:36.378105Z",
          "iopub.status.busy": "2024-05-07T07:56:36.377316Z",
          "iopub.status.idle": "2024-05-07T07:56:36.387533Z",
          "shell.execute_reply": "2024-05-07T07:56:36.386154Z"
        },
        "papermill": {
          "duration": 0.038423,
          "end_time": "2024-05-07T07:56:36.390360",
          "exception": false,
          "start_time": "2024-05-07T07:56:36.351937",
          "status": "completed"
        },
        "tags": [],
        "id": "84ee3d8d"
      },
      "outputs": [],
      "source": [
        "X_test = pd.get_dummies(test_data[['Pclass', 'Sex', 'SibSp', 'Parch']])\n",
        "#X_test=test_data.drop([\"PassengerId\"],axis=1)"
      ]
    },
    {
      "cell_type": "markdown",
      "id": "60c4e2a0",
      "metadata": {
        "papermill": {
          "duration": 0.022947,
          "end_time": "2024-05-07T07:56:36.436033",
          "exception": false,
          "start_time": "2024-05-07T07:56:36.413086",
          "status": "completed"
        },
        "tags": [],
        "id": "60c4e2a0"
      },
      "source": [
        "# Train, validation хуваах"
      ]
    },
    {
      "cell_type": "code",
      "execution_count": null,
      "id": "a8638286",
      "metadata": {
        "execution": {
          "iopub.execute_input": "2024-05-07T07:56:36.484571Z",
          "iopub.status.busy": "2024-05-07T07:56:36.484045Z",
          "iopub.status.idle": "2024-05-07T07:56:36.512281Z",
          "shell.execute_reply": "2024-05-07T07:56:36.510751Z"
        },
        "papermill": {
          "duration": 0.056508,
          "end_time": "2024-05-07T07:56:36.515836",
          "exception": false,
          "start_time": "2024-05-07T07:56:36.459328",
          "status": "completed"
        },
        "tags": [],
        "id": "a8638286"
      },
      "outputs": [],
      "source": [
        "from sklearn.model_selection import train_test_split\n",
        "X_train, X_val, y_train, y_val = train_test_split(X, y, test_size=0.3)"
      ]
    },
    {
      "cell_type": "code",
      "execution_count": null,
      "id": "70970cb8",
      "metadata": {
        "execution": {
          "iopub.execute_input": "2024-05-07T07:56:36.566723Z",
          "iopub.status.busy": "2024-05-07T07:56:36.565882Z",
          "iopub.status.idle": "2024-05-07T07:56:36.573813Z",
          "shell.execute_reply": "2024-05-07T07:56:36.571810Z"
        },
        "papermill": {
          "duration": 0.036493,
          "end_time": "2024-05-07T07:56:36.576692",
          "exception": false,
          "start_time": "2024-05-07T07:56:36.540199",
          "status": "completed"
        },
        "tags": [],
        "id": "70970cb8",
        "outputId": "69f6f9ff-937c-424f-d21e-bb01312e28d2"
      },
      "outputs": [
        {
          "name": "stdout",
          "output_type": "stream",
          "text": [
            "623\n",
            "268\n"
          ]
        }
      ],
      "source": [
        "print(len(X_train))\n",
        "print(len(X_val))"
      ]
    },
    {
      "cell_type": "markdown",
      "id": "a909bd10",
      "metadata": {
        "papermill": {
          "duration": 0.024626,
          "end_time": "2024-05-07T07:56:36.625910",
          "exception": false,
          "start_time": "2024-05-07T07:56:36.601284",
          "status": "completed"
        },
        "tags": [],
        "id": "a909bd10"
      },
      "source": [
        "# Decision Tree"
      ]
    },
    {
      "cell_type": "code",
      "execution_count": null,
      "id": "51a097fd",
      "metadata": {
        "execution": {
          "iopub.execute_input": "2024-05-07T07:56:36.680737Z",
          "iopub.status.busy": "2024-05-07T07:56:36.679942Z",
          "iopub.status.idle": "2024-05-07T07:56:36.948349Z",
          "shell.execute_reply": "2024-05-07T07:56:36.947356Z"
        },
        "papermill": {
          "duration": 0.298767,
          "end_time": "2024-05-07T07:56:36.951442",
          "exception": false,
          "start_time": "2024-05-07T07:56:36.652675",
          "status": "completed"
        },
        "tags": [],
        "id": "51a097fd",
        "outputId": "2643ecee-15aa-4321-c883-6dfcf9bdb35b"
      },
      "outputs": [
        {
          "data": {
            "text/html": [
              "<style>#sk-container-id-1 {color: black;background-color: white;}#sk-container-id-1 pre{padding: 0;}#sk-container-id-1 div.sk-toggleable {background-color: white;}#sk-container-id-1 label.sk-toggleable__label {cursor: pointer;display: block;width: 100%;margin-bottom: 0;padding: 0.3em;box-sizing: border-box;text-align: center;}#sk-container-id-1 label.sk-toggleable__label-arrow:before {content: \"▸\";float: left;margin-right: 0.25em;color: #696969;}#sk-container-id-1 label.sk-toggleable__label-arrow:hover:before {color: black;}#sk-container-id-1 div.sk-estimator:hover label.sk-toggleable__label-arrow:before {color: black;}#sk-container-id-1 div.sk-toggleable__content {max-height: 0;max-width: 0;overflow: hidden;text-align: left;background-color: #f0f8ff;}#sk-container-id-1 div.sk-toggleable__content pre {margin: 0.2em;color: black;border-radius: 0.25em;background-color: #f0f8ff;}#sk-container-id-1 input.sk-toggleable__control:checked~div.sk-toggleable__content {max-height: 200px;max-width: 100%;overflow: auto;}#sk-container-id-1 input.sk-toggleable__control:checked~label.sk-toggleable__label-arrow:before {content: \"▾\";}#sk-container-id-1 div.sk-estimator input.sk-toggleable__control:checked~label.sk-toggleable__label {background-color: #d4ebff;}#sk-container-id-1 div.sk-label input.sk-toggleable__control:checked~label.sk-toggleable__label {background-color: #d4ebff;}#sk-container-id-1 input.sk-hidden--visually {border: 0;clip: rect(1px 1px 1px 1px);clip: rect(1px, 1px, 1px, 1px);height: 1px;margin: -1px;overflow: hidden;padding: 0;position: absolute;width: 1px;}#sk-container-id-1 div.sk-estimator {font-family: monospace;background-color: #f0f8ff;border: 1px dotted black;border-radius: 0.25em;box-sizing: border-box;margin-bottom: 0.5em;}#sk-container-id-1 div.sk-estimator:hover {background-color: #d4ebff;}#sk-container-id-1 div.sk-parallel-item::after {content: \"\";width: 100%;border-bottom: 1px solid gray;flex-grow: 1;}#sk-container-id-1 div.sk-label:hover label.sk-toggleable__label {background-color: #d4ebff;}#sk-container-id-1 div.sk-serial::before {content: \"\";position: absolute;border-left: 1px solid gray;box-sizing: border-box;top: 0;bottom: 0;left: 50%;z-index: 0;}#sk-container-id-1 div.sk-serial {display: flex;flex-direction: column;align-items: center;background-color: white;padding-right: 0.2em;padding-left: 0.2em;position: relative;}#sk-container-id-1 div.sk-item {position: relative;z-index: 1;}#sk-container-id-1 div.sk-parallel {display: flex;align-items: stretch;justify-content: center;background-color: white;position: relative;}#sk-container-id-1 div.sk-item::before, #sk-container-id-1 div.sk-parallel-item::before {content: \"\";position: absolute;border-left: 1px solid gray;box-sizing: border-box;top: 0;bottom: 0;left: 50%;z-index: -1;}#sk-container-id-1 div.sk-parallel-item {display: flex;flex-direction: column;z-index: 1;position: relative;background-color: white;}#sk-container-id-1 div.sk-parallel-item:first-child::after {align-self: flex-end;width: 50%;}#sk-container-id-1 div.sk-parallel-item:last-child::after {align-self: flex-start;width: 50%;}#sk-container-id-1 div.sk-parallel-item:only-child::after {width: 0;}#sk-container-id-1 div.sk-dashed-wrapped {border: 1px dashed gray;margin: 0 0.4em 0.5em 0.4em;box-sizing: border-box;padding-bottom: 0.4em;background-color: white;}#sk-container-id-1 div.sk-label label {font-family: monospace;font-weight: bold;display: inline-block;line-height: 1.2em;}#sk-container-id-1 div.sk-label-container {text-align: center;}#sk-container-id-1 div.sk-container {/* jupyter's `normalize.less` sets `[hidden] { display: none; }` but bootstrap.min.css set `[hidden] { display: none !important; }` so we also need the `!important` here to be able to override the default hidden behavior on the sphinx rendered scikit-learn.org. See: https://github.com/scikit-learn/scikit-learn/issues/21755 */display: inline-block !important;position: relative;}#sk-container-id-1 div.sk-text-repr-fallback {display: none;}</style><div id=\"sk-container-id-1\" class=\"sk-top-container\"><div class=\"sk-text-repr-fallback\"><pre>DecisionTreeClassifier()</pre><b>In a Jupyter environment, please rerun this cell to show the HTML representation or trust the notebook. <br />On GitHub, the HTML representation is unable to render, please try loading this page with nbviewer.org.</b></div><div class=\"sk-container\" hidden><div class=\"sk-item\"><div class=\"sk-estimator sk-toggleable\"><input class=\"sk-toggleable__control sk-hidden--visually\" id=\"sk-estimator-id-1\" type=\"checkbox\" checked><label for=\"sk-estimator-id-1\" class=\"sk-toggleable__label sk-toggleable__label-arrow\">DecisionTreeClassifier</label><div class=\"sk-toggleable__content\"><pre>DecisionTreeClassifier()</pre></div></div></div></div></div>"
            ],
            "text/plain": [
              "DecisionTreeClassifier()"
            ]
          },
          "execution_count": 26,
          "metadata": {},
          "output_type": "execute_result"
        }
      ],
      "source": [
        "from sklearn.tree import DecisionTreeClassifier\n",
        "Tree = DecisionTreeClassifier()\n",
        "Tree.fit(X_train, y_train)"
      ]
    },
    {
      "cell_type": "code",
      "execution_count": null,
      "id": "0fc25fff",
      "metadata": {
        "execution": {
          "iopub.execute_input": "2024-05-07T07:56:37.009127Z",
          "iopub.status.busy": "2024-05-07T07:56:37.008005Z",
          "iopub.status.idle": "2024-05-07T07:56:37.020605Z",
          "shell.execute_reply": "2024-05-07T07:56:37.019700Z"
        },
        "papermill": {
          "duration": 0.045441,
          "end_time": "2024-05-07T07:56:37.022807",
          "exception": false,
          "start_time": "2024-05-07T07:56:36.977366",
          "status": "completed"
        },
        "tags": [],
        "id": "0fc25fff",
        "outputId": "a0e4989a-c66d-412f-c487-7a9ab9dfbb00"
      },
      "outputs": [
        {
          "data": {
            "text/html": [
              "<div>\n",
              "<style scoped>\n",
              "    .dataframe tbody tr th:only-of-type {\n",
              "        vertical-align: middle;\n",
              "    }\n",
              "\n",
              "    .dataframe tbody tr th {\n",
              "        vertical-align: top;\n",
              "    }\n",
              "\n",
              "    .dataframe thead th {\n",
              "        text-align: right;\n",
              "    }\n",
              "</style>\n",
              "<table border=\"1\" class=\"dataframe\">\n",
              "  <thead>\n",
              "    <tr style=\"text-align: right;\">\n",
              "      <th></th>\n",
              "      <th>feature</th>\n",
              "      <th>importance</th>\n",
              "    </tr>\n",
              "  </thead>\n",
              "  <tbody>\n",
              "    <tr>\n",
              "      <th>0</th>\n",
              "      <td>Pclass</td>\n",
              "      <td>0.209771</td>\n",
              "    </tr>\n",
              "    <tr>\n",
              "      <th>1</th>\n",
              "      <td>SibSp</td>\n",
              "      <td>0.079502</td>\n",
              "    </tr>\n",
              "    <tr>\n",
              "      <th>2</th>\n",
              "      <td>Parch</td>\n",
              "      <td>0.087259</td>\n",
              "    </tr>\n",
              "    <tr>\n",
              "      <th>3</th>\n",
              "      <td>Sex_female</td>\n",
              "      <td>0.623467</td>\n",
              "    </tr>\n",
              "    <tr>\n",
              "      <th>4</th>\n",
              "      <td>Sex_male</td>\n",
              "      <td>0.000000</td>\n",
              "    </tr>\n",
              "  </tbody>\n",
              "</table>\n",
              "</div>"
            ],
            "text/plain": [
              "      feature  importance\n",
              "0      Pclass    0.209771\n",
              "1       SibSp    0.079502\n",
              "2       Parch    0.087259\n",
              "3  Sex_female    0.623467\n",
              "4    Sex_male    0.000000"
            ]
          },
          "execution_count": 27,
          "metadata": {},
          "output_type": "execute_result"
        }
      ],
      "source": [
        "importances = pd.DataFrame({\"feature\": X_train.columns, \"importance\": Tree.feature_importances_})\n",
        "importances"
      ]
    },
    {
      "cell_type": "code",
      "execution_count": null,
      "id": "6d01ef1e",
      "metadata": {
        "execution": {
          "iopub.execute_input": "2024-05-07T07:56:37.075641Z",
          "iopub.status.busy": "2024-05-07T07:56:37.074964Z",
          "iopub.status.idle": "2024-05-07T07:56:37.084995Z",
          "shell.execute_reply": "2024-05-07T07:56:37.083815Z"
        },
        "papermill": {
          "duration": 0.039608,
          "end_time": "2024-05-07T07:56:37.087606",
          "exception": false,
          "start_time": "2024-05-07T07:56:37.047998",
          "status": "completed"
        },
        "tags": [],
        "id": "6d01ef1e",
        "outputId": "3efb611c-fe26-4572-ef63-f23079e3f836"
      },
      "outputs": [
        {
          "data": {
            "text/plain": [
              "array([1, 1, 1, 0, 0, 0, 0, 0, 0, 0, 1, 0, 1, 0, 0, 0, 0, 0, 1, 1, 0, 0,\n",
              "       0, 0, 0, 1, 1, 0, 0, 1, 1, 0, 1, 1, 0, 0, 0, 0, 1, 0, 0, 1, 0, 0,\n",
              "       0, 1, 1, 1, 0, 0, 0, 0, 0, 1, 0, 1, 1, 0, 1, 1, 0, 1, 1, 1, 0, 0,\n",
              "       0, 0, 0, 1, 1, 0, 0, 1, 0, 0, 0, 0, 0, 1, 1, 0, 1, 0, 0, 0, 0, 0,\n",
              "       0, 1, 0, 0, 0, 1, 1, 1, 0, 1, 0, 0, 0, 0, 1, 0, 0, 0, 0, 0, 1, 0,\n",
              "       0, 1, 0, 1, 0, 0, 1, 0, 1, 0, 0, 0, 0, 1, 1, 0, 0, 1, 1, 1, 1, 0,\n",
              "       1, 0, 0, 0, 1, 0, 0, 0, 0, 0, 0, 0, 0, 1, 0, 1, 0, 0, 1, 0, 0, 0,\n",
              "       0, 0, 0, 0, 1, 0, 0, 1, 0, 1, 0, 0, 0, 0, 0, 0, 0, 0, 0, 0, 1, 1,\n",
              "       0, 1, 1, 1, 1, 1, 0, 0, 1, 0, 0, 0, 1, 1, 1, 1, 0, 0, 0, 1, 0, 1,\n",
              "       1, 0, 0, 0, 1, 0, 0, 0, 0, 0, 0, 0, 1, 0, 1, 1, 0, 0, 1, 1, 0, 0,\n",
              "       0, 0, 0, 0, 1, 0, 0, 0, 0, 0, 0, 1, 0, 0, 1, 0, 1, 0, 0, 1, 0, 0,\n",
              "       0, 0, 1, 0, 0, 0, 0, 0, 0, 0, 0, 0, 0, 0, 0, 0, 0, 1, 0, 0, 1, 0,\n",
              "       0, 1, 0, 1])"
            ]
          },
          "execution_count": 28,
          "metadata": {},
          "output_type": "execute_result"
        }
      ],
      "source": [
        "y_val_model = Tree.predict(X_val)\n",
        "y_val_model"
      ]
    },
    {
      "cell_type": "code",
      "execution_count": null,
      "id": "ce23e5ca",
      "metadata": {
        "execution": {
          "iopub.execute_input": "2024-05-07T07:56:37.139430Z",
          "iopub.status.busy": "2024-05-07T07:56:37.138972Z",
          "iopub.status.idle": "2024-05-07T07:56:37.147487Z",
          "shell.execute_reply": "2024-05-07T07:56:37.146537Z"
        },
        "papermill": {
          "duration": 0.037474,
          "end_time": "2024-05-07T07:56:37.150223",
          "exception": false,
          "start_time": "2024-05-07T07:56:37.112749",
          "status": "completed"
        },
        "tags": [],
        "id": "ce23e5ca",
        "outputId": "3aab3bde-a7a7-4dc8-c561-ceb67a86bb22"
      },
      "outputs": [
        {
          "data": {
            "text/plain": [
              "767    0\n",
              "419    0\n",
              "319    1\n",
              "831    1\n",
              "574    0\n",
              "      ..\n",
              "143    0\n",
              "642    0\n",
              "327    1\n",
              "825    0\n",
              "161    1\n",
              "Name: Survived, Length: 268, dtype: int64"
            ]
          },
          "execution_count": 29,
          "metadata": {},
          "output_type": "execute_result"
        }
      ],
      "source": [
        "y_val"
      ]
    },
    {
      "cell_type": "code",
      "execution_count": null,
      "id": "fee57db0",
      "metadata": {
        "execution": {
          "iopub.execute_input": "2024-05-07T07:56:37.203039Z",
          "iopub.status.busy": "2024-05-07T07:56:37.202329Z",
          "iopub.status.idle": "2024-05-07T07:56:37.209943Z",
          "shell.execute_reply": "2024-05-07T07:56:37.209136Z"
        },
        "papermill": {
          "duration": 0.036353,
          "end_time": "2024-05-07T07:56:37.212440",
          "exception": false,
          "start_time": "2024-05-07T07:56:37.176087",
          "status": "completed"
        },
        "tags": [],
        "id": "fee57db0",
        "outputId": "d4acc77b-3318-4b2d-98de-7eed048ceb0b"
      },
      "outputs": [
        {
          "data": {
            "text/plain": [
              "0.7947761194029851"
            ]
          },
          "execution_count": 30,
          "metadata": {},
          "output_type": "execute_result"
        }
      ],
      "source": [
        "accuracy_score(y_val, y_val_model)"
      ]
    },
    {
      "cell_type": "markdown",
      "id": "403cb5c8",
      "metadata": {
        "papermill": {
          "duration": 0.024373,
          "end_time": "2024-05-07T07:56:37.263393",
          "exception": false,
          "start_time": "2024-05-07T07:56:37.239020",
          "status": "completed"
        },
        "tags": [],
        "id": "403cb5c8"
      },
      "source": [
        "# Random Forest"
      ]
    },
    {
      "cell_type": "code",
      "execution_count": null,
      "id": "6d6959ce",
      "metadata": {
        "execution": {
          "iopub.execute_input": "2024-05-07T07:56:37.315840Z",
          "iopub.status.busy": "2024-05-07T07:56:37.315036Z",
          "iopub.status.idle": "2024-05-07T07:56:37.437792Z",
          "shell.execute_reply": "2024-05-07T07:56:37.436231Z"
        },
        "papermill": {
          "duration": 0.152461,
          "end_time": "2024-05-07T07:56:37.440586",
          "exception": false,
          "start_time": "2024-05-07T07:56:37.288125",
          "status": "completed"
        },
        "tags": [],
        "id": "6d6959ce",
        "outputId": "88149df4-8b29-4c70-bf34-bf86da828afe"
      },
      "outputs": [
        {
          "data": {
            "text/html": [
              "<style>#sk-container-id-2 {color: black;background-color: white;}#sk-container-id-2 pre{padding: 0;}#sk-container-id-2 div.sk-toggleable {background-color: white;}#sk-container-id-2 label.sk-toggleable__label {cursor: pointer;display: block;width: 100%;margin-bottom: 0;padding: 0.3em;box-sizing: border-box;text-align: center;}#sk-container-id-2 label.sk-toggleable__label-arrow:before {content: \"▸\";float: left;margin-right: 0.25em;color: #696969;}#sk-container-id-2 label.sk-toggleable__label-arrow:hover:before {color: black;}#sk-container-id-2 div.sk-estimator:hover label.sk-toggleable__label-arrow:before {color: black;}#sk-container-id-2 div.sk-toggleable__content {max-height: 0;max-width: 0;overflow: hidden;text-align: left;background-color: #f0f8ff;}#sk-container-id-2 div.sk-toggleable__content pre {margin: 0.2em;color: black;border-radius: 0.25em;background-color: #f0f8ff;}#sk-container-id-2 input.sk-toggleable__control:checked~div.sk-toggleable__content {max-height: 200px;max-width: 100%;overflow: auto;}#sk-container-id-2 input.sk-toggleable__control:checked~label.sk-toggleable__label-arrow:before {content: \"▾\";}#sk-container-id-2 div.sk-estimator input.sk-toggleable__control:checked~label.sk-toggleable__label {background-color: #d4ebff;}#sk-container-id-2 div.sk-label input.sk-toggleable__control:checked~label.sk-toggleable__label {background-color: #d4ebff;}#sk-container-id-2 input.sk-hidden--visually {border: 0;clip: rect(1px 1px 1px 1px);clip: rect(1px, 1px, 1px, 1px);height: 1px;margin: -1px;overflow: hidden;padding: 0;position: absolute;width: 1px;}#sk-container-id-2 div.sk-estimator {font-family: monospace;background-color: #f0f8ff;border: 1px dotted black;border-radius: 0.25em;box-sizing: border-box;margin-bottom: 0.5em;}#sk-container-id-2 div.sk-estimator:hover {background-color: #d4ebff;}#sk-container-id-2 div.sk-parallel-item::after {content: \"\";width: 100%;border-bottom: 1px solid gray;flex-grow: 1;}#sk-container-id-2 div.sk-label:hover label.sk-toggleable__label {background-color: #d4ebff;}#sk-container-id-2 div.sk-serial::before {content: \"\";position: absolute;border-left: 1px solid gray;box-sizing: border-box;top: 0;bottom: 0;left: 50%;z-index: 0;}#sk-container-id-2 div.sk-serial {display: flex;flex-direction: column;align-items: center;background-color: white;padding-right: 0.2em;padding-left: 0.2em;position: relative;}#sk-container-id-2 div.sk-item {position: relative;z-index: 1;}#sk-container-id-2 div.sk-parallel {display: flex;align-items: stretch;justify-content: center;background-color: white;position: relative;}#sk-container-id-2 div.sk-item::before, #sk-container-id-2 div.sk-parallel-item::before {content: \"\";position: absolute;border-left: 1px solid gray;box-sizing: border-box;top: 0;bottom: 0;left: 50%;z-index: -1;}#sk-container-id-2 div.sk-parallel-item {display: flex;flex-direction: column;z-index: 1;position: relative;background-color: white;}#sk-container-id-2 div.sk-parallel-item:first-child::after {align-self: flex-end;width: 50%;}#sk-container-id-2 div.sk-parallel-item:last-child::after {align-self: flex-start;width: 50%;}#sk-container-id-2 div.sk-parallel-item:only-child::after {width: 0;}#sk-container-id-2 div.sk-dashed-wrapped {border: 1px dashed gray;margin: 0 0.4em 0.5em 0.4em;box-sizing: border-box;padding-bottom: 0.4em;background-color: white;}#sk-container-id-2 div.sk-label label {font-family: monospace;font-weight: bold;display: inline-block;line-height: 1.2em;}#sk-container-id-2 div.sk-label-container {text-align: center;}#sk-container-id-2 div.sk-container {/* jupyter's `normalize.less` sets `[hidden] { display: none; }` but bootstrap.min.css set `[hidden] { display: none !important; }` so we also need the `!important` here to be able to override the default hidden behavior on the sphinx rendered scikit-learn.org. See: https://github.com/scikit-learn/scikit-learn/issues/21755 */display: inline-block !important;position: relative;}#sk-container-id-2 div.sk-text-repr-fallback {display: none;}</style><div id=\"sk-container-id-2\" class=\"sk-top-container\"><div class=\"sk-text-repr-fallback\"><pre>RandomForestClassifier(max_depth=3, n_estimators=10, random_state=1)</pre><b>In a Jupyter environment, please rerun this cell to show the HTML representation or trust the notebook. <br />On GitHub, the HTML representation is unable to render, please try loading this page with nbviewer.org.</b></div><div class=\"sk-container\" hidden><div class=\"sk-item\"><div class=\"sk-estimator sk-toggleable\"><input class=\"sk-toggleable__control sk-hidden--visually\" id=\"sk-estimator-id-2\" type=\"checkbox\" checked><label for=\"sk-estimator-id-2\" class=\"sk-toggleable__label sk-toggleable__label-arrow\">RandomForestClassifier</label><div class=\"sk-toggleable__content\"><pre>RandomForestClassifier(max_depth=3, n_estimators=10, random_state=1)</pre></div></div></div></div></div>"
            ],
            "text/plain": [
              "RandomForestClassifier(max_depth=3, n_estimators=10, random_state=1)"
            ]
          },
          "execution_count": 31,
          "metadata": {},
          "output_type": "execute_result"
        }
      ],
      "source": [
        "from sklearn.ensemble import RandomForestClassifier\n",
        "RandomForest = RandomForestClassifier(n_estimators=10, max_depth=3, random_state=1)\n",
        "RandomForest.fit(X_train, y_train)"
      ]
    },
    {
      "cell_type": "code",
      "execution_count": null,
      "id": "b4b4c83e",
      "metadata": {
        "execution": {
          "iopub.execute_input": "2024-05-07T07:56:37.492375Z",
          "iopub.status.busy": "2024-05-07T07:56:37.491971Z",
          "iopub.status.idle": "2024-05-07T07:56:37.504852Z",
          "shell.execute_reply": "2024-05-07T07:56:37.503694Z"
        },
        "papermill": {
          "duration": 0.04157,
          "end_time": "2024-05-07T07:56:37.507161",
          "exception": false,
          "start_time": "2024-05-07T07:56:37.465591",
          "status": "completed"
        },
        "tags": [],
        "id": "b4b4c83e",
        "outputId": "a95f44ea-fc80-42e9-8762-f656fa4096b0"
      },
      "outputs": [
        {
          "data": {
            "text/plain": [
              "array([1, 0, 1, 0, 0, 0, 0, 0, 0, 0, 1, 0, 1, 0, 0, 0, 0, 0, 1, 1, 0, 0,\n",
              "       0, 0, 0, 1, 1, 0, 0, 1, 0, 0, 1, 1, 0, 0, 0, 0, 1, 0, 0, 1, 0, 0,\n",
              "       0, 1, 1, 1, 0, 0, 0, 0, 0, 1, 0, 1, 1, 0, 1, 1, 0, 1, 1, 1, 0, 0,\n",
              "       0, 0, 0, 1, 1, 0, 0, 1, 0, 0, 0, 0, 0, 1, 1, 0, 1, 0, 0, 0, 0, 0,\n",
              "       0, 0, 0, 0, 0, 1, 1, 1, 0, 1, 0, 0, 0, 0, 1, 0, 0, 0, 0, 0, 1, 0,\n",
              "       0, 1, 0, 1, 0, 0, 1, 0, 1, 0, 0, 0, 0, 1, 1, 0, 0, 1, 1, 1, 1, 0,\n",
              "       1, 0, 0, 0, 1, 0, 0, 0, 0, 0, 0, 0, 0, 1, 0, 1, 0, 0, 0, 0, 0, 0,\n",
              "       0, 0, 0, 0, 1, 0, 0, 1, 0, 1, 0, 0, 0, 0, 0, 0, 0, 0, 0, 0, 1, 1,\n",
              "       0, 1, 1, 1, 1, 1, 0, 0, 0, 0, 0, 0, 1, 1, 1, 1, 0, 0, 0, 1, 0, 1,\n",
              "       1, 0, 0, 0, 0, 0, 0, 0, 0, 0, 0, 0, 1, 0, 0, 1, 0, 0, 1, 1, 0, 0,\n",
              "       0, 0, 0, 1, 1, 0, 0, 0, 0, 0, 0, 1, 0, 0, 0, 0, 1, 0, 0, 1, 0, 0,\n",
              "       0, 0, 1, 0, 0, 0, 0, 0, 0, 0, 0, 0, 0, 0, 0, 0, 0, 1, 0, 0, 1, 0,\n",
              "       0, 1, 0, 1])"
            ]
          },
          "execution_count": 32,
          "metadata": {},
          "output_type": "execute_result"
        }
      ],
      "source": [
        "y_val_random_forest = RandomForest.predict(X_val)\n",
        "y_val_random_forest"
      ]
    },
    {
      "cell_type": "code",
      "execution_count": null,
      "id": "20d865e6",
      "metadata": {
        "execution": {
          "iopub.execute_input": "2024-05-07T07:56:37.559084Z",
          "iopub.status.busy": "2024-05-07T07:56:37.558122Z",
          "iopub.status.idle": "2024-05-07T07:56:37.568354Z",
          "shell.execute_reply": "2024-05-07T07:56:37.566734Z"
        },
        "papermill": {
          "duration": 0.039635,
          "end_time": "2024-05-07T07:56:37.571634",
          "exception": false,
          "start_time": "2024-05-07T07:56:37.531999",
          "status": "completed"
        },
        "tags": [],
        "id": "20d865e6",
        "outputId": "c407bf44-d93b-498d-d44e-74d9fc9a9081"
      },
      "outputs": [
        {
          "data": {
            "text/plain": [
              "0.7985074626865671"
            ]
          },
          "execution_count": 33,
          "metadata": {},
          "output_type": "execute_result"
        }
      ],
      "source": [
        "accuracy_score(y_val, y_val_random_forest)"
      ]
    },
    {
      "cell_type": "markdown",
      "id": "db57adb6",
      "metadata": {
        "papermill": {
          "duration": 0.025238,
          "end_time": "2024-05-07T07:56:37.623162",
          "exception": false,
          "start_time": "2024-05-07T07:56:37.597924",
          "status": "completed"
        },
        "tags": [],
        "id": "db57adb6"
      },
      "source": [
        "# Kaggle Submission"
      ]
    },
    {
      "cell_type": "code",
      "execution_count": null,
      "id": "a2b86290",
      "metadata": {
        "execution": {
          "iopub.execute_input": "2024-05-07T07:56:37.679584Z",
          "iopub.status.busy": "2024-05-07T07:56:37.678912Z",
          "iopub.status.idle": "2024-05-07T07:56:37.690886Z",
          "shell.execute_reply": "2024-05-07T07:56:37.689716Z"
        },
        "papermill": {
          "duration": 0.043713,
          "end_time": "2024-05-07T07:56:37.693660",
          "exception": false,
          "start_time": "2024-05-07T07:56:37.649947",
          "status": "completed"
        },
        "tags": [],
        "id": "a2b86290",
        "outputId": "e92d746c-f253-4cb2-9ec8-65707c17efe6"
      },
      "outputs": [
        {
          "data": {
            "text/plain": [
              "array([0, 1, 0, 0, 1, 0, 1, 0, 1, 0, 0, 0, 1, 0, 1, 1, 0, 0, 1, 1, 0, 0,\n",
              "       1, 0, 0, 0, 1, 0, 0, 0, 0, 0, 0, 0, 0, 0, 1, 1, 0, 0, 0, 0, 0, 1,\n",
              "       1, 0, 0, 0, 1, 1, 0, 0, 1, 1, 0, 0, 0, 0, 0, 1, 0, 0, 0, 1, 1, 1,\n",
              "       1, 0, 0, 0, 1, 0, 1, 0, 1, 0, 0, 1, 0, 1, 0, 0, 0, 0, 0, 0, 1, 1,\n",
              "       1, 0, 1, 0, 0, 0, 0, 0, 1, 0, 1, 0, 1, 0, 0, 0, 1, 0, 0, 0, 0, 0,\n",
              "       0, 1, 1, 1, 1, 0, 0, 1, 0, 1, 1, 0, 1, 0, 0, 0, 0, 1, 0, 0, 0, 0,\n",
              "       0, 0, 0, 0, 0, 0, 1, 0, 0, 1, 1, 0, 0, 0, 0, 0, 0, 0, 1, 0, 0, 1,\n",
              "       0, 0, 1, 1, 0, 1, 1, 0, 1, 0, 0, 1, 0, 0, 1, 1, 0, 0, 0, 0, 0, 1,\n",
              "       1, 0, 1, 1, 0, 0, 1, 0, 1, 0, 1, 0, 0, 0, 0, 0, 0, 0, 1, 0, 0, 1,\n",
              "       0, 1, 1, 0, 0, 1, 0, 0, 1, 0, 1, 0, 0, 0, 0, 1, 0, 0, 1, 0, 1, 0,\n",
              "       1, 0, 1, 0, 1, 1, 0, 1, 0, 0, 0, 1, 0, 0, 0, 0, 0, 0, 1, 1, 1, 1,\n",
              "       0, 0, 0, 0, 1, 0, 1, 1, 1, 0, 0, 0, 0, 0, 0, 0, 1, 0, 0, 0, 1, 1,\n",
              "       0, 0, 0, 0, 1, 0, 0, 0, 1, 1, 0, 1, 0, 0, 0, 0, 1, 0, 1, 1, 1, 0,\n",
              "       0, 0, 0, 0, 0, 1, 0, 0, 0, 0, 1, 0, 0, 0, 0, 0, 0, 0, 1, 1, 1, 0,\n",
              "       0, 1, 0, 0, 0, 1, 1, 1, 0, 0, 0, 0, 0, 0, 0, 0, 1, 0, 1, 0, 0, 0,\n",
              "       1, 0, 0, 1, 0, 0, 0, 0, 0, 0, 0, 0, 0, 1, 0, 1, 0, 1, 0, 1, 1, 0,\n",
              "       0, 0, 0, 0, 1, 0, 0, 1, 0, 1, 1, 0, 1, 0, 0, 1, 1, 0, 0, 1, 0, 0,\n",
              "       1, 1, 1, 0, 0, 0, 0, 0, 1, 1, 0, 1, 0, 0, 0, 0, 0, 1, 0, 0, 0, 1,\n",
              "       0, 1, 0, 0, 1, 0, 1, 0, 0, 0, 0, 0, 1, 1, 1, 1, 1, 0, 1, 0, 0, 0])"
            ]
          },
          "execution_count": 34,
          "metadata": {},
          "output_type": "execute_result"
        }
      ],
      "source": [
        "predictions = Tree.predict(X_test)\n",
        "predictions"
      ]
    },
    {
      "cell_type": "code",
      "execution_count": null,
      "id": "e2f82f37",
      "metadata": {
        "execution": {
          "iopub.execute_input": "2024-05-07T07:56:37.748625Z",
          "iopub.status.busy": "2024-05-07T07:56:37.747613Z",
          "iopub.status.idle": "2024-05-07T07:56:37.761742Z",
          "shell.execute_reply": "2024-05-07T07:56:37.760554Z"
        },
        "papermill": {
          "duration": 0.043849,
          "end_time": "2024-05-07T07:56:37.764546",
          "exception": false,
          "start_time": "2024-05-07T07:56:37.720697",
          "status": "completed"
        },
        "tags": [],
        "id": "e2f82f37",
        "outputId": "8c40926e-2bc3-4752-8c8c-73d2e69d603d"
      },
      "outputs": [
        {
          "name": "stdout",
          "output_type": "stream",
          "text": [
            "Амжилттай\n"
          ]
        }
      ],
      "source": [
        "output = pd.DataFrame({\"PassengerId\": test_data.PassengerId, \"Survived\": predictions})\n",
        "output.to_csv('my_titanic_submission.csv', index=False)\n",
        "print(\"Амжилттай\")"
      ]
    },
    {
      "cell_type": "code",
      "execution_count": null,
      "id": "035b5163",
      "metadata": {
        "papermill": {
          "duration": 0.025272,
          "end_time": "2024-05-07T07:56:37.816440",
          "exception": false,
          "start_time": "2024-05-07T07:56:37.791168",
          "status": "completed"
        },
        "tags": [],
        "id": "035b5163"
      },
      "outputs": [],
      "source": []
    }
  ],
  "metadata": {
    "kaggle": {
      "accelerator": "none",
      "dataSources": [
        {
          "databundleVersionId": 26502,
          "sourceId": 3136,
          "sourceType": "competition"
        },
        {
          "datasetId": 1355,
          "sourceId": 2445,
          "sourceType": "datasetVersion"
        }
      ],
      "isGpuEnabled": false,
      "isInternetEnabled": false,
      "language": "python",
      "sourceType": "notebook"
    },
    "kernelspec": {
      "display_name": "Python 3",
      "language": "python",
      "name": "python3"
    },
    "language_info": {
      "codemirror_mode": {
        "name": "ipython",
        "version": 3
      },
      "file_extension": ".py",
      "mimetype": "text/x-python",
      "name": "python",
      "nbconvert_exporter": "python",
      "pygments_lexer": "ipython3",
      "version": "3.10.13"
    },
    "papermill": {
      "default_parameters": {},
      "duration": 15.646621,
      "end_time": "2024-05-07T07:56:38.768647",
      "environment_variables": {},
      "exception": null,
      "input_path": "__notebook__.ipynb",
      "output_path": "__notebook__.ipynb",
      "parameters": {},
      "start_time": "2024-05-07T07:56:23.122026",
      "version": "2.3.3"
    },
    "colab": {
      "provenance": [],
      "include_colab_link": true
    }
  },
  "nbformat": 4,
  "nbformat_minor": 5
}